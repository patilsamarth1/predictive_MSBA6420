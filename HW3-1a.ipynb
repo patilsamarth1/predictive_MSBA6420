{
 "cells": [
  {
   "cell_type": "code",
   "execution_count": 4,
   "metadata": {},
   "outputs": [],
   "source": [
    "import pandas as pd\n",
    "import numpy as np\n",
    "from sklearn.metrics import mean_squared_error\n",
    "from sklearn.model_selection import cross_val_score, train_test_split, KFold, GridSearchCV\n",
    "from sklearn.pipeline import Pipeline\n",
    "from sklearn.preprocessing import StandardScaler\n",
    "from sklearn.linear_model import ElasticNet\n",
    "from sklearn.neighbors import KNeighborsRegressor\n",
    "from sklearn.tree import DecisionTreeRegressor\n",
    "from sklearn.svm import SVR\n",
    "from sklearn.ensemble import RandomForestRegressor\n",
    "from sklearn.neural_network import MLPRegressor\n",
    "from tensorflow.keras.models import Sequential\n",
    "from tensorflow.keras.layers import Dense\n",
    "from tensorflow.keras.wrappers.scikit_learn import KerasRegressor\n",
    "import warnings\n",
    "warnings.filterwarnings('ignore')\n",
    "# from scikeras.wrappers import KerasRegressor"
   ]
  },
  {
   "cell_type": "markdown",
   "metadata": {},
   "source": [
    "Reading the data"
   ]
  },
  {
   "cell_type": "code",
   "execution_count": 5,
   "metadata": {},
   "outputs": [],
   "source": [
    "df = pd.read_csv('../data/HW3_new.csv')\n",
    "values = df.values\n",
    "X = values[:, 1:-2]\n",
    "Y = values[:, -1]\n",
    "x_train, x_test, y_train, y_test = train_test_split(X, Y, test_size=0.20, random_state = 29)"
   ]
  },
  {
   "cell_type": "code",
   "execution_count": 6,
   "metadata": {},
   "outputs": [],
   "source": [
    "# def create_model(activation, nb_hidden, layers):\n",
    "#     model = Sequential()\n",
    "#     model.add(Dense(nb_hidden, input_dim=np.shape(X)[1], activation=activation))\n",
    "#     for i in range(layers):\n",
    "#         model.add(Dense(nb_hidden, input_dim=nb_hidden, activation=activation))\n",
    "#     model.add(Dense(1))\n",
    "#     model.compile(loss='mean_squared_error', optimizer='adam')\n",
    "#     return model"
   ]
  },
  {
   "cell_type": "markdown",
   "metadata": {},
   "source": [
    "1-a"
   ]
  },
  {
   "cell_type": "code",
   "execution_count": 7,
   "metadata": {},
   "outputs": [],
   "source": [
    "# linear regression, k-NN, regression tree, SVM regreesion and Neural Network and ensembling models\n",
    "model_names = []\n",
    "clf1 = ElasticNet()\n",
    "p_grid1 = [{'alpha': np.power(10, range(0,6)), 'normalize': [True, False], 'l1_ratio': [0,0.5,1]},\n",
    "{'alpha': [0],'normalize': [True, False], 'l1_ratio': np.arange(0,1,0.3)}]\n",
    "model_names.append('ElasticNet')\n",
    "\n",
    "clf2 = KNeighborsRegressor()\n",
    "p_grid2 = [{'clf2__n_neighbors': range(2,8), 'clf2__weights': ['uniform', 'distance'], 'clf2__p' : [1,2]}]\n",
    "pipe2 = Pipeline([('std', StandardScaler()), ('clf2', clf2)])\n",
    "model_names.append('KNN')\n",
    "\n",
    "clf3 = DecisionTreeRegressor()\n",
    "p_grid3 = [{'criterion': ['absolute_error','squared_error'], 'max_depth': range(2,6)}]\n",
    "model_names.append('Decision Tree')\n",
    "\n",
    "# epsilon ????\n",
    "clf4 = SVR()\n",
    "p_grid4 = [{'clf4__kernel': ['rbf', 'poly', 'sigmoid'], 'clf4__degree': range(1,4), \n",
    "'clf4__gamma': ['scale', 'auto'], 'clf4__C': np.power(10, range(0,4)), 'clf4__epsilon': np.arange(0.1, 0.5, 0.1)}]\n",
    "pipe4 = Pipeline([('std', StandardScaler()), ('clf4', clf4)])\n",
    "model_names.append('SVR')\n",
    "\n",
    "# clf5 = KerasRegressor(build_fn=create_model, epochs=20, batch_size = 400, verbose=0)\n",
    "# p_grid5 = [{'clf5__activation': ['relu', 'tanh', 'sigmoid', 'linear'], 'clf5__nb_hidden': [11,12,22], 'clf5__layers':range(0,4),\n",
    "# 'clf5__epochs': [20, 50], 'clf5__batch_size': [200, 400]}]\n",
    "# pipe5 = Pipeline([('std', StandardScaler()), ('clf5', clf5)])\n",
    "\n",
    "clf5 = MLPRegressor(random_state=29)\n",
    "p_grid5 = [{'clf5__activation': ['relu', 'tanh'], 'clf5__solver': ['lbfgs', 'adam'], \n",
    "'clf5__hidden_layer_sizes': [(22),(22,22),(12,12)]}]\n",
    "pipe5 = Pipeline([('std', StandardScaler()), ('clf5', clf5)])\n",
    "model_names.append('Neural Net')\n",
    "\n",
    "clf6 = RandomForestRegressor(random_state=29)\n",
    "p_grid6 = [{'n_estimators': [100, 200, 300]}]\n",
    "model_names.append('Random Forest')\n",
    "\n",
    "inner_cv = KFold(n_splits=4, shuffle=True, random_state=29)\n",
    "outer_cv = KFold(n_splits=4, shuffle=True, random_state=29)\n",
    "grid_cv = []\n",
    "\n",
    "for p_grid, est in zip((p_grid1, p_grid2, p_grid3, p_grid4, p_grid5, p_grid6), (clf1, pipe2, clf3, pipe4, pipe5, clf6)):\n",
    "    gs = GridSearchCV(estimator=est, param_grid=p_grid, scoring='neg_root_mean_squared_error', cv=inner_cv)\n",
    "    grid_cv.append(gs)"
   ]
  },
  {
   "cell_type": "markdown",
   "metadata": {},
   "source": [
    "Getting the negative RMSE for multiple models"
   ]
  },
  {
   "cell_type": "code",
   "execution_count": 8,
   "metadata": {},
   "outputs": [
    {
     "data": {
      "text/plain": [
       "[('ElasticNet', -120.20231399897135, 6.295501022882377),\n",
       " ('KNN', -136.08393809265482, 11.289811353130084),\n",
       " ('Decision Tree', -136.89370044209645, 4.59889300505023),\n",
       " ('SVR', -127.92333381824372, 6.97373817181843),\n",
       " ('Neural Net', -118.25348389259082, 7.813668025294545),\n",
       " ('Random Forest', -124.18568393978822, 8.084968788435381)]"
      ]
     },
     "execution_count": 8,
     "metadata": {},
     "output_type": "execute_result"
    }
   ],
   "source": [
    "nested_scores = []\n",
    "for i in range(len(grid_cv)):\n",
    "    nested_score = cross_val_score(grid_cv[i], X=x_train, y=y_train, cv=outer_cv, scoring='neg_root_mean_squared_error')\n",
    "    nested_scores.append((model_names[i], nested_score.mean(), nested_score.std()))\n",
    "nested_scores"
   ]
  },
  {
   "cell_type": "markdown",
   "metadata": {},
   "source": [
    "Tuning the hyperparameters for the best model - Neural Network"
   ]
  },
  {
   "cell_type": "code",
   "execution_count": 9,
   "metadata": {},
   "outputs": [
    {
     "data": {
      "text/plain": [
       "GridSearchCV(cv=KFold(n_splits=4, random_state=29, shuffle=True),\n",
       "             estimator=Pipeline(steps=[('std', StandardScaler()),\n",
       "                                       ('clf5',\n",
       "                                        MLPRegressor(random_state=29))]),\n",
       "             param_grid=[{'clf5__activation': ['relu', 'tanh'],\n",
       "                          'clf5__hidden_layer_sizes': [22, (22, 22), (12, 12)],\n",
       "                          'clf5__solver': ['lbfgs', 'adam']}],\n",
       "             scoring='neg_root_mean_squared_error')"
      ]
     },
     "execution_count": 9,
     "metadata": {},
     "output_type": "execute_result"
    }
   ],
   "source": [
    "hp_model = GridSearchCV(estimator=pipe5, param_grid=p_grid5, scoring='neg_root_mean_squared_error', cv=inner_cv)\n",
    "hp_model.fit(x_train, y_train)"
   ]
  },
  {
   "cell_type": "markdown",
   "metadata": {},
   "source": [
    "Evaluating the MSE performance of the best model on the test data"
   ]
  },
  {
   "cell_type": "code",
   "execution_count": 15,
   "metadata": {},
   "outputs": [
    {
     "name": "stdout",
     "output_type": "stream",
     "text": [
      "23110.084690587\n"
     ]
    },
    {
     "data": {
      "text/plain": [
       "{'clf5__activation': 'relu',\n",
       " 'clf5__hidden_layer_sizes': (22, 22),\n",
       " 'clf5__solver': 'adam'}"
      ]
     },
     "execution_count": 15,
     "metadata": {},
     "output_type": "execute_result"
    }
   ],
   "source": [
    "best_model = hp_model.best_estimator_\n",
    "pred = best_model.predict(pd.DataFrame(x_test))\n",
    "print(mean_squared_error(y_test, pred))\n",
    "hp_model.best_params_"
   ]
  }
 ],
 "metadata": {
  "interpreter": {
   "hash": "98dd8f7ab5e670de6f15440e4dbf104f6a22fa9efc0b623d651b0cd672a901b5"
  },
  "kernelspec": {
   "display_name": "Python 3.9.7 ('env': venv)",
   "language": "python",
   "name": "python3"
  },
  "language_info": {
   "codemirror_mode": {
    "name": "ipython",
    "version": 3
   },
   "file_extension": ".py",
   "mimetype": "text/x-python",
   "name": "python",
   "nbconvert_exporter": "python",
   "pygments_lexer": "ipython3",
   "version": "3.9.7"
  },
  "orig_nbformat": 4
 },
 "nbformat": 4,
 "nbformat_minor": 2
}
