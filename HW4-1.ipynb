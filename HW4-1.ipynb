{
 "cells": [
  {
   "cell_type": "code",
   "execution_count": 1,
   "metadata": {},
   "outputs": [],
   "source": [
    "import numpy as np\n",
    "import matplotlib.pyplot as plt\n",
    "from sklearn.metrics import mean_squared_error\n",
    "from sklearn.model_selection import train_test_split\n",
    "from tensorflow.keras.models import Sequential\n",
    "from tensorflow.keras.layers import Dense\n",
    "import warnings\n",
    "warnings.filterwarnings('ignore')"
   ]
  },
  {
   "cell_type": "code",
   "execution_count": 2,
   "metadata": {},
   "outputs": [],
   "source": [
    "X = np.random.uniform(-2*np.pi, 2*np.pi, 12*10**4)\n",
    "Y = 2*(2*(np.cos(X))**2-1)**2 - 1 \n",
    "x_train, x_test, y_train, y_test = train_test_split(X, Y, test_size=0.50, random_state=29)"
   ]
  },
  {
   "cell_type": "code",
   "execution_count": 6,
   "metadata": {},
   "outputs": [],
   "source": [
    "def create_model(units, layers):\n",
    "    model = Sequential()\n",
    "    model.add(Dense(1, input_dim=1, activation='relu'))\n",
    "    for i in range(layers):\n",
    "        model.add(Dense(units, activation='relu'))\n",
    "    model.add(Dense(1))\n",
    "    model.compile(loss='mean_squared_error')\n",
    "    return model"
   ]
  },
  {
   "cell_type": "code",
   "execution_count": 7,
   "metadata": {},
   "outputs": [],
   "source": [
    "def get_error(units, layers):    \n",
    "    model  = create_model(units, layers)\n",
    "    model.fit(x_train, y_train)\n",
    "    y_pred = model.predict(x_test)\n",
    "    return mean_squared_error(y_test, y_pred)"
   ]
  },
  {
   "cell_type": "code",
   "execution_count": 24,
   "metadata": {},
   "outputs": [
    {
     "name": "stdout",
     "output_type": "stream",
     "text": [
      "1875/1875 [==============================] - 3s 1ms/step - loss: 0.4806\n",
      "1875/1875 [==============================] - 3s 1ms/step - loss: 0.4634\n",
      "1875/1875 [==============================] - 3s 1ms/step - loss: 0.4654\n",
      "1875/1875 [==============================] - 3s 1ms/step - loss: 0.4297\n",
      "1875/1875 [==============================] - 4s 2ms/step - loss: 0.4176\n",
      "1875/1875 [==============================] - 2s 1ms/step - loss: 0.4712\n",
      "1875/1875 [==============================] - 2s 1ms/step - loss: 0.4347\n",
      "1875/1875 [==============================] - 2s 1ms/step - loss: 0.4201\n",
      "1875/1875 [==============================] - 2s 1ms/step - loss: 0.4312\n",
      "1875/1875 [==============================] - 2s 1ms/step - loss: 0.4633\n",
      "1875/1875 [==============================] - 2s 1ms/step - loss: 0.4102\n"
     ]
    }
   ],
   "source": [
    "errors1 = []\n",
    "units1 = np.array([24, 48, 72, 128, 256])\n",
    "errors2 = []\n",
    "units2 = np.array([12, 24, 36])\n",
    "errors3 = []\n",
    "units3 = np.array([8, 16, 24])\n",
    "\n",
    "layers = 1\n",
    "for units in units1:\n",
    "    errors1.append(get_error(units, layers))\n",
    "\n",
    "layers = 2\n",
    "for units in units2:\n",
    "    errors2.append(get_error(units, layers))\n",
    "\n",
    "layers = 3\n",
    "for units in units3:\n",
    "    errors3.append(get_error(units, layers))\n",
    "\n",
    "units2*=2\n",
    "units3*=3"
   ]
  },
  {
   "cell_type": "code",
   "execution_count": 27,
   "metadata": {},
   "outputs": [
    {
     "data": {
      "text/plain": [
       "<matplotlib.legend.Legend at 0x2bb24fd4430>"
      ]
     },
     "execution_count": 27,
     "metadata": {},
     "output_type": "execute_result"
    },
    {
     "data": {
      "image/png": "[encoded data removed]",
      "text/plain": [
       "<Figure size 432x288 with 1 Axes>"
      ]
     },
     "metadata": {
      "needs_background": "light"
     },
     "output_type": "display_data"
    }
   ],
   "source": [
    "plt.plot(units1, errors1)\n",
    "plt.plot(units2, errors2)\n",
    "plt.plot(units3, errors3)\n",
    "plt.xlim(20,100)\n",
    "plt.xlabel('Number of units')\n",
    "plt.ylabel('Test error')\n",
    "plt.legend(['1 hidden','2 hidden','3 hidden'])"
   ]
  }
 ],
 "metadata": {
  "interpreter": {
   "hash": "98dd8f7ab5e670de6f15440e4dbf104f6a22fa9efc0b623d651b0cd672a901b5"
  },
  "kernelspec": {
   "display_name": "Python 3.9.7 ('env': venv)",
   "language": "python",
   "name": "python3"
  },
  "language_info": {
   "codemirror_mode": {
    "name": "ipython",
    "version": 3
   },
   "file_extension": ".py",
   "mimetype": "text/x-python",
   "name": "python",
   "nbconvert_exporter": "python",
   "pygments_lexer": "ipython3",
   "version": "3.9.7"
  },
  "orig_nbformat": 4
 },
 "nbformat": 4,
 "nbformat_minor": 2
}
