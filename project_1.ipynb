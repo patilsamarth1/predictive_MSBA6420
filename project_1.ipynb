{
 "cells": [
  {
   "cell_type": "code",
   "execution_count": 1,
   "metadata": {},
   "outputs": [],
   "source": [
    "import pandas as pd\n",
    "import numpy as np\n",
    "import matplotlib.pyplot as plt\n",
    "import tensorflow.keras.backend as K\n",
    "from scikitplot.metrics import plot_roc, plot_lift_curve\n",
    "from sklearn.metrics import confusion_matrix, make_scorer, classification_report\n",
    "from sklearn.model_selection import cross_val_score, train_test_split, StratifiedKFold, RandomizedSearchCV, GridSearchCV\n",
    "from sklearn.pipeline import Pipeline\n",
    "from sklearn.preprocessing import StandardScaler\n",
    "from sklearn.linear_model import LogisticRegression\n",
    "from sklearn.neighbors import KNeighborsClassifier\n",
    "from sklearn.tree import DecisionTreeClassifier\n",
    "from sklearn.svm import SVC\n",
    "from sklearn.ensemble import RandomForestClassifier\n",
    "from sklearn.neural_network import MLPClassifier\n",
    "import xgboost as xgb\n",
    "from xgboost.sklearn import XGBClassifier\n",
    "from tensorflow.keras.models import Sequential\n",
    "from tensorflow.keras.layers import Dense\n",
    "from tensorflow.keras.wrappers.scikit_learn import KerasRegressor\n",
    "import warnings\n",
    "warnings.filterwarnings('ignore')\n",
    "# from scikeras.wrappers import KerasRegressor\n"
   ]
  },
  {
   "cell_type": "code",
   "execution_count": 2,
   "metadata": {},
   "outputs": [
    {
     "data": {
      "text/html": [
       "<div>\n",
       "<style scoped>\n",
       "    .dataframe tbody tr th:only-of-type {\n",
       "        vertical-align: middle;\n",
       "    }\n",
       "\n",
       "    .dataframe tbody tr th {\n",
       "        vertical-align: top;\n",
       "    }\n",
       "\n",
       "    .dataframe thead th {\n",
       "        text-align: right;\n",
       "    }\n",
       "</style>\n",
       "<table border=\"1\" class=\"dataframe\">\n",
       "  <thead>\n",
       "    <tr style=\"text-align: right;\">\n",
       "      <th></th>\n",
       "      <th>ID_code</th>\n",
       "      <th>target</th>\n",
       "      <th>var_0</th>\n",
       "      <th>var_1</th>\n",
       "      <th>var_2</th>\n",
       "      <th>var_3</th>\n",
       "      <th>var_4</th>\n",
       "      <th>var_5</th>\n",
       "      <th>var_6</th>\n",
       "      <th>var_7</th>\n",
       "      <th>...</th>\n",
       "      <th>var_190</th>\n",
       "      <th>var_191</th>\n",
       "      <th>var_192</th>\n",
       "      <th>var_193</th>\n",
       "      <th>var_194</th>\n",
       "      <th>var_195</th>\n",
       "      <th>var_196</th>\n",
       "      <th>var_197</th>\n",
       "      <th>var_198</th>\n",
       "      <th>var_199</th>\n",
       "    </tr>\n",
       "  </thead>\n",
       "  <tbody>\n",
       "    <tr>\n",
       "      <th>0</th>\n",
       "      <td>train_0</td>\n",
       "      <td>0</td>\n",
       "      <td>8.9255</td>\n",
       "      <td>-6.7863</td>\n",
       "      <td>11.9081</td>\n",
       "      <td>5.0930</td>\n",
       "      <td>11.4607</td>\n",
       "      <td>-9.2834</td>\n",
       "      <td>5.1187</td>\n",
       "      <td>18.6266</td>\n",
       "      <td>...</td>\n",
       "      <td>4.4354</td>\n",
       "      <td>3.9642</td>\n",
       "      <td>3.1364</td>\n",
       "      <td>1.6910</td>\n",
       "      <td>18.5227</td>\n",
       "      <td>-2.3978</td>\n",
       "      <td>7.8784</td>\n",
       "      <td>8.5635</td>\n",
       "      <td>12.7803</td>\n",
       "      <td>-1.0914</td>\n",
       "    </tr>\n",
       "    <tr>\n",
       "      <th>1</th>\n",
       "      <td>train_1</td>\n",
       "      <td>0</td>\n",
       "      <td>11.5006</td>\n",
       "      <td>-4.1473</td>\n",
       "      <td>13.8588</td>\n",
       "      <td>5.3890</td>\n",
       "      <td>12.3622</td>\n",
       "      <td>7.0433</td>\n",
       "      <td>5.6208</td>\n",
       "      <td>16.5338</td>\n",
       "      <td>...</td>\n",
       "      <td>7.6421</td>\n",
       "      <td>7.7214</td>\n",
       "      <td>2.5837</td>\n",
       "      <td>10.9516</td>\n",
       "      <td>15.4305</td>\n",
       "      <td>2.0339</td>\n",
       "      <td>8.1267</td>\n",
       "      <td>8.7889</td>\n",
       "      <td>18.3560</td>\n",
       "      <td>1.9518</td>\n",
       "    </tr>\n",
       "    <tr>\n",
       "      <th>2</th>\n",
       "      <td>train_2</td>\n",
       "      <td>0</td>\n",
       "      <td>8.6093</td>\n",
       "      <td>-2.7457</td>\n",
       "      <td>12.0805</td>\n",
       "      <td>7.8928</td>\n",
       "      <td>10.5825</td>\n",
       "      <td>-9.0837</td>\n",
       "      <td>6.9427</td>\n",
       "      <td>14.6155</td>\n",
       "      <td>...</td>\n",
       "      <td>2.9057</td>\n",
       "      <td>9.7905</td>\n",
       "      <td>1.6704</td>\n",
       "      <td>1.6858</td>\n",
       "      <td>21.6042</td>\n",
       "      <td>3.1417</td>\n",
       "      <td>-6.5213</td>\n",
       "      <td>8.2675</td>\n",
       "      <td>14.7222</td>\n",
       "      <td>0.3965</td>\n",
       "    </tr>\n",
       "    <tr>\n",
       "      <th>3</th>\n",
       "      <td>train_3</td>\n",
       "      <td>0</td>\n",
       "      <td>11.0604</td>\n",
       "      <td>-2.1518</td>\n",
       "      <td>8.9522</td>\n",
       "      <td>7.1957</td>\n",
       "      <td>12.5846</td>\n",
       "      <td>-1.8361</td>\n",
       "      <td>5.8428</td>\n",
       "      <td>14.9250</td>\n",
       "      <td>...</td>\n",
       "      <td>4.4666</td>\n",
       "      <td>4.7433</td>\n",
       "      <td>0.7178</td>\n",
       "      <td>1.4214</td>\n",
       "      <td>23.0347</td>\n",
       "      <td>-1.2706</td>\n",
       "      <td>-2.9275</td>\n",
       "      <td>10.2922</td>\n",
       "      <td>17.9697</td>\n",
       "      <td>-8.9996</td>\n",
       "    </tr>\n",
       "    <tr>\n",
       "      <th>4</th>\n",
       "      <td>train_4</td>\n",
       "      <td>0</td>\n",
       "      <td>9.8369</td>\n",
       "      <td>-1.4834</td>\n",
       "      <td>12.8746</td>\n",
       "      <td>6.6375</td>\n",
       "      <td>12.2772</td>\n",
       "      <td>2.4486</td>\n",
       "      <td>5.9405</td>\n",
       "      <td>19.2514</td>\n",
       "      <td>...</td>\n",
       "      <td>-1.4905</td>\n",
       "      <td>9.5214</td>\n",
       "      <td>-0.1508</td>\n",
       "      <td>9.1942</td>\n",
       "      <td>13.2876</td>\n",
       "      <td>-1.5121</td>\n",
       "      <td>3.9267</td>\n",
       "      <td>9.5031</td>\n",
       "      <td>17.9974</td>\n",
       "      <td>-8.8104</td>\n",
       "    </tr>\n",
       "    <tr>\n",
       "      <th>...</th>\n",
       "      <td>...</td>\n",
       "      <td>...</td>\n",
       "      <td>...</td>\n",
       "      <td>...</td>\n",
       "      <td>...</td>\n",
       "      <td>...</td>\n",
       "      <td>...</td>\n",
       "      <td>...</td>\n",
       "      <td>...</td>\n",
       "      <td>...</td>\n",
       "      <td>...</td>\n",
       "      <td>...</td>\n",
       "      <td>...</td>\n",
       "      <td>...</td>\n",
       "      <td>...</td>\n",
       "      <td>...</td>\n",
       "      <td>...</td>\n",
       "      <td>...</td>\n",
       "      <td>...</td>\n",
       "      <td>...</td>\n",
       "      <td>...</td>\n",
       "    </tr>\n",
       "    <tr>\n",
       "      <th>199995</th>\n",
       "      <td>train_199995</td>\n",
       "      <td>0</td>\n",
       "      <td>11.4880</td>\n",
       "      <td>-0.4956</td>\n",
       "      <td>8.2622</td>\n",
       "      <td>3.5142</td>\n",
       "      <td>10.3404</td>\n",
       "      <td>11.6081</td>\n",
       "      <td>5.6709</td>\n",
       "      <td>15.1516</td>\n",
       "      <td>...</td>\n",
       "      <td>6.1415</td>\n",
       "      <td>13.2305</td>\n",
       "      <td>3.9901</td>\n",
       "      <td>0.9388</td>\n",
       "      <td>18.0249</td>\n",
       "      <td>-1.7939</td>\n",
       "      <td>2.1661</td>\n",
       "      <td>8.5326</td>\n",
       "      <td>16.6660</td>\n",
       "      <td>-17.8661</td>\n",
       "    </tr>\n",
       "    <tr>\n",
       "      <th>199996</th>\n",
       "      <td>train_199996</td>\n",
       "      <td>0</td>\n",
       "      <td>4.9149</td>\n",
       "      <td>-2.4484</td>\n",
       "      <td>16.7052</td>\n",
       "      <td>6.6345</td>\n",
       "      <td>8.3096</td>\n",
       "      <td>-10.5628</td>\n",
       "      <td>5.8802</td>\n",
       "      <td>21.5940</td>\n",
       "      <td>...</td>\n",
       "      <td>4.9611</td>\n",
       "      <td>4.6549</td>\n",
       "      <td>0.6998</td>\n",
       "      <td>1.8341</td>\n",
       "      <td>22.2717</td>\n",
       "      <td>1.7337</td>\n",
       "      <td>-2.1651</td>\n",
       "      <td>6.7419</td>\n",
       "      <td>15.9054</td>\n",
       "      <td>0.3388</td>\n",
       "    </tr>\n",
       "    <tr>\n",
       "      <th>199997</th>\n",
       "      <td>train_199997</td>\n",
       "      <td>0</td>\n",
       "      <td>11.2232</td>\n",
       "      <td>-5.0518</td>\n",
       "      <td>10.5127</td>\n",
       "      <td>5.6456</td>\n",
       "      <td>9.3410</td>\n",
       "      <td>-5.4086</td>\n",
       "      <td>4.5555</td>\n",
       "      <td>21.5571</td>\n",
       "      <td>...</td>\n",
       "      <td>4.0651</td>\n",
       "      <td>5.4414</td>\n",
       "      <td>3.1032</td>\n",
       "      <td>4.8793</td>\n",
       "      <td>23.5311</td>\n",
       "      <td>-1.5736</td>\n",
       "      <td>1.2832</td>\n",
       "      <td>8.7155</td>\n",
       "      <td>13.8329</td>\n",
       "      <td>4.1995</td>\n",
       "    </tr>\n",
       "    <tr>\n",
       "      <th>199998</th>\n",
       "      <td>train_199998</td>\n",
       "      <td>0</td>\n",
       "      <td>9.7148</td>\n",
       "      <td>-8.6098</td>\n",
       "      <td>13.6104</td>\n",
       "      <td>5.7930</td>\n",
       "      <td>12.5173</td>\n",
       "      <td>0.5339</td>\n",
       "      <td>6.0479</td>\n",
       "      <td>17.0152</td>\n",
       "      <td>...</td>\n",
       "      <td>2.6840</td>\n",
       "      <td>8.6587</td>\n",
       "      <td>2.7337</td>\n",
       "      <td>11.1178</td>\n",
       "      <td>20.4158</td>\n",
       "      <td>-0.0786</td>\n",
       "      <td>6.7980</td>\n",
       "      <td>10.0342</td>\n",
       "      <td>15.5289</td>\n",
       "      <td>-13.9001</td>\n",
       "    </tr>\n",
       "    <tr>\n",
       "      <th>199999</th>\n",
       "      <td>train_199999</td>\n",
       "      <td>0</td>\n",
       "      <td>10.8762</td>\n",
       "      <td>-5.7105</td>\n",
       "      <td>12.1183</td>\n",
       "      <td>8.0328</td>\n",
       "      <td>11.5577</td>\n",
       "      <td>0.3488</td>\n",
       "      <td>5.2839</td>\n",
       "      <td>15.2058</td>\n",
       "      <td>...</td>\n",
       "      <td>8.9842</td>\n",
       "      <td>1.6893</td>\n",
       "      <td>0.1276</td>\n",
       "      <td>0.3766</td>\n",
       "      <td>15.2101</td>\n",
       "      <td>-2.4907</td>\n",
       "      <td>-2.2342</td>\n",
       "      <td>8.1857</td>\n",
       "      <td>12.1284</td>\n",
       "      <td>0.1385</td>\n",
       "    </tr>\n",
       "  </tbody>\n",
       "</table>\n",
       "<p>200000 rows × 202 columns</p>\n",
       "</div>"
      ],
      "text/plain": [
       "             ID_code  target    var_0   var_1    var_2   var_3    var_4  \\\n",
       "0            train_0       0   8.9255 -6.7863  11.9081  5.0930  11.4607   \n",
       "1            train_1       0  11.5006 -4.1473  13.8588  5.3890  12.3622   \n",
       "2            train_2       0   8.6093 -2.7457  12.0805  7.8928  10.5825   \n",
       "3            train_3       0  11.0604 -2.1518   8.9522  7.1957  12.5846   \n",
       "4            train_4       0   9.8369 -1.4834  12.8746  6.6375  12.2772   \n",
       "...              ...     ...      ...     ...      ...     ...      ...   \n",
       "199995  train_199995       0  11.4880 -0.4956   8.2622  3.5142  10.3404   \n",
       "199996  train_199996       0   4.9149 -2.4484  16.7052  6.6345   8.3096   \n",
       "199997  train_199997       0  11.2232 -5.0518  10.5127  5.6456   9.3410   \n",
       "199998  train_199998       0   9.7148 -8.6098  13.6104  5.7930  12.5173   \n",
       "199999  train_199999       0  10.8762 -5.7105  12.1183  8.0328  11.5577   \n",
       "\n",
       "          var_5   var_6    var_7  ...  var_190  var_191  var_192  var_193  \\\n",
       "0       -9.2834  5.1187  18.6266  ...   4.4354   3.9642   3.1364   1.6910   \n",
       "1        7.0433  5.6208  16.5338  ...   7.6421   7.7214   2.5837  10.9516   \n",
       "2       -9.0837  6.9427  14.6155  ...   2.9057   9.7905   1.6704   1.6858   \n",
       "3       -1.8361  5.8428  14.9250  ...   4.4666   4.7433   0.7178   1.4214   \n",
       "4        2.4486  5.9405  19.2514  ...  -1.4905   9.5214  -0.1508   9.1942   \n",
       "...         ...     ...      ...  ...      ...      ...      ...      ...   \n",
       "199995  11.6081  5.6709  15.1516  ...   6.1415  13.2305   3.9901   0.9388   \n",
       "199996 -10.5628  5.8802  21.5940  ...   4.9611   4.6549   0.6998   1.8341   \n",
       "199997  -5.4086  4.5555  21.5571  ...   4.0651   5.4414   3.1032   4.8793   \n",
       "199998   0.5339  6.0479  17.0152  ...   2.6840   8.6587   2.7337  11.1178   \n",
       "199999   0.3488  5.2839  15.2058  ...   8.9842   1.6893   0.1276   0.3766   \n",
       "\n",
       "        var_194  var_195  var_196  var_197  var_198  var_199  \n",
       "0       18.5227  -2.3978   7.8784   8.5635  12.7803  -1.0914  \n",
       "1       15.4305   2.0339   8.1267   8.7889  18.3560   1.9518  \n",
       "2       21.6042   3.1417  -6.5213   8.2675  14.7222   0.3965  \n",
       "3       23.0347  -1.2706  -2.9275  10.2922  17.9697  -8.9996  \n",
       "4       13.2876  -1.5121   3.9267   9.5031  17.9974  -8.8104  \n",
       "...         ...      ...      ...      ...      ...      ...  \n",
       "199995  18.0249  -1.7939   2.1661   8.5326  16.6660 -17.8661  \n",
       "199996  22.2717   1.7337  -2.1651   6.7419  15.9054   0.3388  \n",
       "199997  23.5311  -1.5736   1.2832   8.7155  13.8329   4.1995  \n",
       "199998  20.4158  -0.0786   6.7980  10.0342  15.5289 -13.9001  \n",
       "199999  15.2101  -2.4907  -2.2342   8.1857  12.1284   0.1385  \n",
       "\n",
       "[200000 rows x 202 columns]"
      ]
     },
     "execution_count": 2,
     "metadata": {},
     "output_type": "execute_result"
    }
   ],
   "source": [
    "df = pd.read_csv('../data/santander-customer-transaction-prediction/train.csv')\n",
    "# values = df.values\n",
    "# X = values[:, :-1]\n",
    "# Y = values[:, -1]\n",
    "df"
   ]
  },
  {
   "cell_type": "code",
   "execution_count": 12,
   "metadata": {},
   "outputs": [],
   "source": [
    "values = df.values\n",
    "X = values[:,2:]\n",
    "Y = values[:,1]"
   ]
  },
  {
   "cell_type": "markdown",
   "metadata": {},
   "source": []
  },
  {
   "cell_type": "code",
   "execution_count": 55,
   "metadata": {},
   "outputs": [],
   "source": [
    "model_names = []\n",
    "\n",
    "clf1 = LogisticRegression(class_weight='balanced', max_iter=10000)\n",
    "pipe1 = Pipeline([('std', StandardScaler()), ('clf1', clf1)])\n",
    "p_grid1 = [{'clf1__C': np.power(10, range(0, 10))}]\n",
    "model_names.append('Logistic')\n",
    "\n",
    "clf2 = KNeighborsClassifier()\n",
    "pipe2 = Pipeline([('std', StandardScaler()), ('clf2', clf2)])\n",
    "p_grid2 = [{'clf2__n_neighbors': range(1, 10)}]\n",
    "model_names.append('KNN')\n",
    "\n",
    "clf3 = DecisionTreeClassifier(class_weight='balanced')\n",
    "p_grid3 = [{'clf3__max_depth': range(1, 10), 'clf3__criterion': [\n",
    "    'gini', 'entropy']}]\n",
    "pipe3 = Pipeline([('std', StandardScaler()), ('clf3', clf3)])\n",
    "model_names.append('Decision Tree')\n",
    "\n",
    "clf4 = SVC(class_weight='balanced')\n",
    "pipe4 = Pipeline([('std', StandardScaler()), ('clf4', clf4)])\n",
    "p_grid4 = [{'clf4__kernel': ['rbf'], 'clf4__C': np.power(10, range(0, 5)), 'clf4__gamma': np.power(10., range(-5, 0))},\n",
    "           {'clf4__kernel': ['linear'], 'clf4__C': np.power(10, range(0, 5))}]\n",
    "model_names.append('SVC')\n",
    "\n",
    "clf5 = MLPClassifier(random_state=29)\n",
    "p_grid5 = [{'clf5__activation': ['relu', 'tanh'], 'clf5__solver': ['lbfgs', 'adam'], \n",
    "'clf5__hidden_layer_sizes': [(200), (200, 100), (100, 100)]}]\n",
    "pipe5 = Pipeline([('std', StandardScaler()), ('clf5', clf5)])\n",
    "model_names.append('Neural Net')\n",
    "\n",
    "clf6 = XGBClassifier(seed=29, verbosity=0)\n",
    "p_grid6 = [{'clf6__n_estimators': [100, 500, 1000], 'clf6__max_depth': range(2, 11), \n",
    "'clf6__eta': np.power(10., range(-4, 1)), 'clf6__subsample': [0.1, 0.5, 1], 'clf6__colsample_bytree': [0.1, 0.5, 1]}]\n",
    "pipe6 = Pipeline([('std', StandardScaler()), ('clf6', clf6)])\n",
    "model_names.append('xgboost')\n",
    "\n",
    "inner_cv = StratifiedKFold(n_splits=4, shuffle=True, random_state=29)\n",
    "outer_cv = StratifiedKFold(n_splits=4, shuffle=True, random_state=29)\n",
    "grid_cv = []\n",
    "\n",
    "for p_grid, est in zip((p_grid1, p_grid2, p_grid3, p_grid4, p_grid5, p_grid6), (pipe1, pipe2, pipe3, pipe4, pipe5, pipe6)):\n",
    "    gs = GridSearchCV(estimator=est, param_grid=p_grid, scoring='f1', cv=inner_cv)\n",
    "    # gs = RandomizedSearchCV(estimator=est, param_distributions=p_grid,\n",
    "    #                         scoring='f1', cv=inner_cv, random_state=29)\n",
    "    grid_cv.append(gs)\n"
   ]
  },
  {
   "cell_type": "markdown",
   "metadata": {},
   "source": []
  },
  {
   "cell_type": "code",
   "execution_count": 51,
   "metadata": {},
   "outputs": [
    {
     "data": {
      "text/plain": [
       "[('Logistic', 0.906907589973516, 0.010989850507871988),\n",
       " ('KNN', 0.872545101731896, 0.011190827673510987),\n",
       " ('Decision Tree', 0.89138703619591, 0.02066604148553987),\n",
       " ('SVC', 0.9063246233564621, 0.013268356312041834),\n",
       " ('Neural Net', 0.9238779663007578, 0.016738296609973655),\n",
       " ('xgboost', 0.9309996597226964, 0.012794762215576436)]"
      ]
     },
     "execution_count": 51,
     "metadata": {},
     "output_type": "execute_result"
    }
   ],
   "source": [
    "nested_scores = []\n",
    "for i in range(len(grid_cv)):\n",
    "    nested_score = cross_val_score(grid_cv[i], X=X, y=Y, cv=outer_cv, scoring='f1')\n",
    "    nested_scores.append((model_names[i], nested_score.mean(), nested_score.std()))\n",
    "nested_scores\n",
    "x = pd.DataFrame(nested_scores)\n",
    "x.to_csv('x', index=False, header=False)\n"
   ]
  },
  {
   "cell_type": "markdown",
   "metadata": {},
   "source": [
    "Running all models without normalization"
   ]
  },
  {
   "cell_type": "markdown",
   "metadata": {},
   "source": [
    "Normalization helps with training faster and improves model performance for non-tree based models <br>\n",
    "This behavior is as expected <br>"
   ]
  },
  {
   "cell_type": "code",
   "execution_count": 24,
   "metadata": {},
   "outputs": [],
   "source": [
    "exit()"
   ]
  },
  {
   "cell_type": "code",
   "execution_count": 151,
   "metadata": {},
   "outputs": [
    {
     "data": {
      "text/plain": [
       "RandomizedSearchCV(cv=StratifiedKFold(n_splits=4, random_state=29, shuffle=True),\n",
       "                   estimator=XGBClassifier(base_score=None, booster=None,\n",
       "                                           colsample_bylevel=None,\n",
       "                                           colsample_bynode=None,\n",
       "                                           colsample_bytree=None,\n",
       "                                           enable_categorical=False, gamma=None,\n",
       "                                           gpu_id=None, importance_type=None,\n",
       "                                           interaction_constraints=None,\n",
       "                                           learning_rate=None,\n",
       "                                           max_delta_step=None, max_depth=None...\n",
       "                                           predictor=None, random_state=None,\n",
       "                                           reg_alpha=None, reg_lambda=None,\n",
       "                                           scale_pos_weight=None, seed=29,\n",
       "                                           subsample=None, tree_method=None,\n",
       "                                           validate_parameters=None,\n",
       "                                           verbosity=0),\n",
       "                   param_distributions=[{'colsample_bytree': [0.1, 0.5, 1],\n",
       "                                         'eta': array([1.e-04, 1.e-03, 1.e-02, 1.e-01, 1.e+00]),\n",
       "                                         'max_depth': range(2, 11),\n",
       "                                         'n_estimators': [100, 500],\n",
       "                                         'subsample': [0.1, 0.5, 1]}],\n",
       "                   random_state=29, scoring='f1')"
      ]
     },
     "execution_count": 151,
     "metadata": {},
     "output_type": "execute_result"
    }
   ],
   "source": [
    "# hp_model = RandomizedSearchCV(estimator=clf6, param_distributions=p_grid6, scoring='f1', cv=inner_cv, random_state=29)\n",
    "# hp_model.fit(x_train, y_train)"
   ]
  },
  {
   "cell_type": "code",
   "execution_count": 152,
   "metadata": {},
   "outputs": [
    {
     "name": "stdout",
     "output_type": "stream",
     "text": [
      "              precision    recall  f1-score   support\n",
      "\n",
      "         0.0       0.95      0.96      0.96       543\n",
      "         1.0       0.94      0.93      0.94       378\n",
      "\n",
      "    accuracy                           0.95       921\n",
      "   macro avg       0.95      0.95      0.95       921\n",
      "weighted avg       0.95      0.95      0.95       921\n",
      "\n"
     ]
    },
    {
     "data": {
      "text/plain": [
       "{'subsample': 1,\n",
       " 'n_estimators': 100,\n",
       " 'max_depth': 10,\n",
       " 'eta': 1.0,\n",
       " 'colsample_bytree': 1}"
      ]
     },
     "execution_count": 152,
     "metadata": {},
     "output_type": "execute_result"
    }
   ],
   "source": [
    "best_model = hp_model.best_estimator_\n",
    "pred = best_model.predict(pd.DataFrame(x_test))\n",
    "print(classification_report(y_test, pred))\n",
    "prob = best_model.predict_proba(pd.DataFrame(x_test))\n",
    "hp_model.best_params_\n"
   ]
  },
  {
   "cell_type": "code",
   "execution_count": 62,
   "metadata": {},
   "outputs": [
    {
     "data": {
      "text/plain": [
       "<AxesSubplot:title={'center':'ROC Curves'}, xlabel='False Positive Rate', ylabel='True Positive Rate'>"
      ]
     },
     "execution_count": 62,
     "metadata": {},
     "output_type": "execute_result"
    },
    {
     "data": {
      "image/png": "[encoded data removed]",
      "text/plain": [
       "<Figure size 432x288 with 1 Axes>"
      ]
     },
     "metadata": {
      "needs_background": "light"
     },
     "output_type": "display_data"
    }
   ],
   "source": [
    "plot_roc(y_test, prob)"
   ]
  },
  {
   "cell_type": "code",
   "execution_count": 63,
   "metadata": {},
   "outputs": [
    {
     "data": {
      "text/plain": [
       "<AxesSubplot:title={'center':'Lift Curve'}, xlabel='Percentage of sample', ylabel='Lift'>"
      ]
     },
     "execution_count": 63,
     "metadata": {},
     "output_type": "execute_result"
    },
    {
     "data": {
      "image/png": "[encoded data removed]",
      "text/plain": [
       "<Figure size 432x288 with 1 Axes>"
      ]
     },
     "metadata": {
      "needs_background": "light"
     },
     "output_type": "display_data"
    }
   ],
   "source": [
    "plot_lift_curve(y_test, prob)"
   ]
  },
  {
   "cell_type": "markdown",
   "metadata": {},
   "source": [
    "2-ii) <br>\n",
    "Cost-sensitive classification <br>\n",
    "Misclassifying a non-spam email as spam is the costlier error and the costs are calculated accordingly"
   ]
  },
  {
   "cell_type": "code",
   "execution_count": 64,
   "metadata": {},
   "outputs": [],
   "source": [
    "def missclass_cost(actual, pred):\n",
    "    cm = confusion_matrix(actual, pred)\n",
    "    return (10*cm[0,1]+1*cm[1,0])/(len(actual))"
   ]
  },
  {
   "cell_type": "code",
   "execution_count": 65,
   "metadata": {},
   "outputs": [],
   "source": [
    "\n",
    "model_names = []\n",
    "scorer = make_scorer(missclass_cost, greater_is_better = False)\n",
    "\n",
    "clf1 = LogisticRegression(class_weight='balanced', max_iter=10000)\n",
    "pipe1 = Pipeline([('std', StandardScaler()), ('clf1', clf1)])\n",
    "p_grid1 = [{'clf1__C': np.power(10, range(0, 10))}]\n",
    "model_names.append('Logistic')\n",
    "\n",
    "clf2 = KNeighborsClassifier()\n",
    "pipe2 = Pipeline([('std', StandardScaler()), ('clf2', clf2)])\n",
    "p_grid2 = [{'clf2__n_neighbors': range(1, 10)}]\n",
    "model_names.append('KNN')\n",
    "\n",
    "clf3 = DecisionTreeClassifier(class_weight='balanced')\n",
    "p_grid3 = [{'max_depth': range(1, 10), 'criterion': [\n",
    "    'gini', 'entropy']}]\n",
    "model_names.append('Decision Tree')\n",
    "\n",
    "clf4 = SVC(class_weight='balanced')\n",
    "pipe4 = Pipeline([('std', StandardScaler()), ('clf4', clf4)])\n",
    "p_grid4 = [{'clf4__kernel': ['rbf'], 'clf4__C': np.power(10, range(0, 5)), 'clf4__gamma': np.power(10., range(-5, 0))},\n",
    "           {'clf4__kernel': ['linear'], 'clf4__C': np.power(10, range(0, 5))}]\n",
    "model_names.append('SVC')\n",
    "\n",
    "clf5 = MLPClassifier(random_state=29)\n",
    "p_grid5 = [{'clf5__activation': ['relu', 'tanh'], 'clf5__solver': ['lbfgs', 'adam'], \n",
    "'clf5__hidden_layer_sizes': [(22), (22, 22), (12, 12)]}]\n",
    "pipe5 = Pipeline([('std', StandardScaler()), ('clf5', clf5)])\n",
    "model_names.append('Neural Net')\n",
    "\n",
    "clf6 = XGBClassifier(seed=29, verbosity=0)\n",
    "p_grid6 = [{'n_estimators': [100, 500, 1000], 'max_depth': range(2, 11),\n",
    " 'eta': np.power(10., range(-4, 1)), 'subsample': [0.1, 0.5, 1], 'colsample_bytree': [0.1, 0.5, 1]}]\n",
    "model_names.append('xgboost')\n",
    "\n",
    "inner_cv = StratifiedKFold(n_splits=4, shuffle=True, random_state=29)\n",
    "outer_cv = StratifiedKFold(n_splits=4, shuffle=True, random_state=29)\n",
    "grid_cv = []\n",
    "\n",
    "for p_grid, est in zip((p_grid1, p_grid2, p_grid3, p_grid4, p_grid5, p_grid6), (pipe1, pipe2, clf3, pipe4, pipe5, clf6)):\n",
    "    gs = RandomizedSearchCV(estimator=est, param_distributions=p_grid, scoring=scorer, cv=inner_cv, random_state=29)\n",
    "    grid_cv.append(gs)\n"
   ]
  },
  {
   "cell_type": "markdown",
   "metadata": {},
   "source": [
    "Getting the negative avg misclassification costs for all models"
   ]
  },
  {
   "cell_type": "code",
   "execution_count": 66,
   "metadata": {},
   "outputs": [
    {
     "name": "stdout",
     "output_type": "stream",
     "text": [
      "Running model:  Logistic\n",
      "Running model:  KNN\n",
      "Running model:  Decision Tree\n",
      "Running model:  SVC\n",
      "Running model:  Neural Net\n",
      "Running model:  xgboost\n"
     ]
    },
    {
     "data": {
      "text/plain": [
       "[('Logistic', -0.44456521739130433, 0.06862475703332431),\n",
       " ('KNN', -0.3171195652173913, 0.03784400344054943),\n",
       " ('Decision Tree', -0.40951086956521743, 0.0599423508097982),\n",
       " ('SVC', -0.360054347826087, 0.03613517437389968),\n",
       " ('Neural Net', -0.3326086956521739, 0.03877404126464558),\n",
       " ('xgboost', -0.17201086956521738, 0.025192723598417028)]"
      ]
     },
     "execution_count": 66,
     "metadata": {},
     "output_type": "execute_result"
    }
   ],
   "source": [
    "nested_scores = []\n",
    "for i in range(len(grid_cv)):\n",
    "    print('Running model: ', model_names[i])\n",
    "    nested_score = cross_val_score(grid_cv[i], X=x_train, y=y_train, cv=outer_cv, scoring=scorer)\n",
    "    nested_scores.append((model_names[i], nested_score.mean(), nested_score.std()))\n",
    "nested_scores"
   ]
  },
  {
   "cell_type": "markdown",
   "metadata": {},
   "source": [
    "Hyper parameter tuning the best model - xgboost"
   ]
  },
  {
   "cell_type": "code",
   "execution_count": 114,
   "metadata": {},
   "outputs": [
    {
     "data": {
      "text/plain": [
       "RandomizedSearchCV(cv=StratifiedKFold(n_splits=4, random_state=29, shuffle=True),\n",
       "                   estimator=XGBClassifier(base_score=None, booster=None,\n",
       "                                           colsample_bylevel=None,\n",
       "                                           colsample_bynode=None,\n",
       "                                           colsample_bytree=None,\n",
       "                                           enable_categorical=False, gamma=None,\n",
       "                                           gpu_id=None, importance_type=None,\n",
       "                                           interaction_constraints=None,\n",
       "                                           learning_rate=None,\n",
       "                                           max_delta_step=None, max_depth=None...\n",
       "                                           scale_pos_weight=None, seed=29,\n",
       "                                           subsample=None, tree_method=None,\n",
       "                                           validate_parameters=None,\n",
       "                                           verbosity=0),\n",
       "                   param_distributions=[{'colsample_bytree': [0.1, 0.5, 1],\n",
       "                                         'eta': array([1.e-04, 1.e-03, 1.e-02, 1.e-01, 1.e+00]),\n",
       "                                         'max_depth': range(2, 11),\n",
       "                                         'n_estimators': [100, 500, 1000],\n",
       "                                         'subsample': [0.1, 0.5, 1]}],\n",
       "                   random_state=29,\n",
       "                   scoring=make_scorer(missclass_cost, greater_is_better=False))"
      ]
     },
     "execution_count": 114,
     "metadata": {},
     "output_type": "execute_result"
    }
   ],
   "source": [
    "hp_model = RandomizedSearchCV(estimator=clf6, param_distributions=p_grid6, scoring=scorer, cv=inner_cv, random_state=29)\n",
    "hp_model.fit(x_train, y_train)"
   ]
  },
  {
   "cell_type": "code",
   "execution_count": 147,
   "metadata": {},
   "outputs": [
    {
     "data": {
      "text/plain": [
       "{'subsample': 1,\n",
       " 'n_estimators': 100,\n",
       " 'max_depth': 10,\n",
       " 'eta': 0.01,\n",
       " 'colsample_bytree': 0.1}"
      ]
     },
     "execution_count": 147,
     "metadata": {},
     "output_type": "execute_result"
    }
   ],
   "source": [
    "best_model = hp_model.best_estimator_\n",
    "prob = best_model.predict_proba(pd.DataFrame(x_test))\n",
    "y_test_sorted = y_test[np.flip(np.argsort(prob[:,1]))]\n",
    "prob_sorted = np.flip(np.sort(prob[:,1]))\n",
    "hp_model.best_params_"
   ]
  },
  {
   "cell_type": "code",
   "execution_count": 124,
   "metadata": {},
   "outputs": [
    {
     "data": {
      "text/plain": [
       "(246, 0.19109663409337677)"
      ]
     },
     "execution_count": 124,
     "metadata": {},
     "output_type": "execute_result"
    }
   ],
   "source": [
    "pred_arr = np.zeros(len(y_test))\n",
    "i1 = 0\n",
    "c1 = missclass_cost(y_test_sorted, pred_arr)\n",
    "arr = [c1]\n",
    "for i in range(len(y_test_sorted)):\n",
    "    pred_arr[i]=1\n",
    "    c = missclass_cost(y_test_sorted, pred_arr)\n",
    "    if c < c1: \n",
    "        c1 = c\n",
    "        i1 = i+1\n",
    "        arr.append(c1)\n",
    "i1, c1"
   ]
  },
  {
   "cell_type": "markdown",
   "metadata": {},
   "source": [
    "The min avg misclassification cost is 0.19"
   ]
  },
  {
   "cell_type": "code",
   "execution_count": 127,
   "metadata": {},
   "outputs": [
    {
     "name": "stdout",
     "output_type": "stream",
     "text": [
      "0.56814295 0.56834865\n"
     ]
    }
   ],
   "source": [
    "pred = np.zeros(len(y_test))\n",
    "pred[:246]=1\n",
    "print(prob_sorted[i1], prob_sorted[i1-1])"
   ]
  },
  {
   "cell_type": "markdown",
   "metadata": {},
   "source": [
    "The threshold can be set at any value between 0.56814295 and 0.56834865"
   ]
  },
  {
   "cell_type": "code",
   "execution_count": 134,
   "metadata": {},
   "outputs": [
    {
     "name": "stdout",
     "output_type": "stream",
     "text": [
      "              precision    recall  f1-score   support\n",
      "\n",
      "         0.0       0.80      0.99      0.89       543\n",
      "         1.0       0.98      0.64      0.78       378\n",
      "\n",
      "    accuracy                           0.85       921\n",
      "   macro avg       0.89      0.82      0.83       921\n",
      "weighted avg       0.87      0.85      0.84       921\n",
      "\n",
      "Average Misclassification Cost:  0.19109663409337677\n"
     ]
    }
   ],
   "source": [
    "print(classification_report(y_test_sorted, pred))\n",
    "print('Average Misclassification Cost: ', missclass_cost(y_test_sorted, pred))"
   ]
  },
  {
   "cell_type": "markdown",
   "metadata": {},
   "source": [
    "Plotting avg misclassification cost at different thresholds"
   ]
  },
  {
   "cell_type": "code",
   "execution_count": 108,
   "metadata": {},
   "outputs": [],
   "source": [
    "thresholds = np.linspace(0, 1.0, num=21)\n",
    "cost_list=np.linspace(0, 1.0, num=21)\n",
    "y_test_sorted = y_test[np.flip(np.argsort(prob[:,1]))]\n",
    "index=0\n",
    "for t in thresholds:\n",
    "   predict_thre = np.where(np.flip(np.sort(prob[:,1])) > t, 1, 0)\n",
    "   cost_list[index] = missclass_cost(y_test_sorted, predict_thre)\n",
    "   index+=1"
   ]
  },
  {
   "cell_type": "code",
   "execution_count": 109,
   "metadata": {},
   "outputs": [
    {
     "data": {
      "image/png": "[encoded data removed]",
      "text/plain": [
       "<Figure size 432x288 with 1 Axes>"
      ]
     },
     "metadata": {
      "needs_background": "light"
     },
     "output_type": "display_data"
    }
   ],
   "source": [
    "plt.figure(1)\n",
    "plt.plot(thresholds,  cost_list, 'r--')\n",
    "plt.xlabel(\"Thresholds\")\n",
    "plt.ylabel(\"Cost\")\n",
    "plt.show()"
   ]
  },
  {
   "cell_type": "code",
   "execution_count": 132,
   "metadata": {},
   "outputs": [
    {
     "data": {
      "text/plain": [
       "<AxesSubplot:title={'center':'ROC Curves'}, xlabel='False Positive Rate', ylabel='True Positive Rate'>"
      ]
     },
     "execution_count": 132,
     "metadata": {},
     "output_type": "execute_result"
    },
    {
     "data": {
      "image/png": "[encoded data removed]",
      "text/plain": [
       "<Figure size 432x288 with 1 Axes>"
      ]
     },
     "metadata": {
      "needs_background": "light"
     },
     "output_type": "display_data"
    }
   ],
   "source": [
    "plot_roc(y_test, prob)"
   ]
  },
  {
   "cell_type": "code",
   "execution_count": 133,
   "metadata": {},
   "outputs": [
    {
     "data": {
      "text/plain": [
       "<AxesSubplot:title={'center':'Lift Curve'}, xlabel='Percentage of sample', ylabel='Lift'>"
      ]
     },
     "execution_count": 133,
     "metadata": {},
     "output_type": "execute_result"
    },
    {
     "data": {
      "image/png": "[encoded data removed]",
      "text/plain": [
       "<Figure size 432x288 with 1 Axes>"
      ]
     },
     "metadata": {
      "needs_background": "light"
     },
     "output_type": "display_data"
    }
   ],
   "source": [
    "plot_lift_curve(y_test, prob)"
   ]
  },
  {
   "cell_type": "markdown",
   "metadata": {},
   "source": [
    "The cost-based model training decreases the other performance metrics of the model <br>\n",
    "except for recall of class-0 and precision of class-1. This is expected given the class costs. <br>"
   ]
  }
 ],
 "metadata": {
  "interpreter": {
   "hash": "98dd8f7ab5e670de6f15440e4dbf104f6a22fa9efc0b623d651b0cd672a901b5"
  },
  "kernelspec": {
   "display_name": "Python 3.9.7 ('env': venv)",
   "language": "python",
   "name": "python3"
  },
  "language_info": {
   "codemirror_mode": {
    "name": "ipython",
    "version": 3
   },
   "file_extension": ".py",
   "mimetype": "text/x-python",
   "name": "python",
   "nbconvert_exporter": "python",
   "pygments_lexer": "ipython3",
   "version": "3.9.7"
  },
  "orig_nbformat": 4
 },
 "nbformat": 4,
 "nbformat_minor": 2
}
