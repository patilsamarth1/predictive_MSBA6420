{
 "cells": [
  {
   "cell_type": "code",
   "execution_count": 63,
   "metadata": {},
   "outputs": [],
   "source": [
    "import pandas as pd\n",
    "import numpy as np \n",
    "import matplotlib.pyplot as plt\n",
    "from scikitplot.metrics import plot_roc, plot_lift_curve\n",
    "from sklearn.metrics import confusion_matrix, recall_score, accuracy_score\n",
    "from sklearn.model_selection import cross_val_score, train_test_split, StratifiedKFold, GridSearchCV\n",
    "from sklearn.pipeline import Pipeline\n",
    "from sklearn.preprocessing import StandardScaler, LabelEncoder\n",
    "from sklearn.linear_model import LogisticRegression\n",
    "from sklearn.neighbors import KNeighborsClassifier\n",
    "from sklearn.tree import DecisionTreeClassifier\n",
    "from sklearn.svm import SVC"
   ]
  },
  {
   "cell_type": "markdown",
   "metadata": {},
   "source": [
    "2-d"
   ]
  },
  {
   "cell_type": "code",
   "execution_count": 73,
   "metadata": {},
   "outputs": [],
   "source": [
    "actual = [1,1,1,0,1,0,1,0,0,0]\n",
    "FPR = [0]\n",
    "TPR = [0]\n",
    "p = sum(actual)\n",
    "n = len(actual) - p"
   ]
  },
  {
   "cell_type": "code",
   "execution_count": 13,
   "metadata": {},
   "outputs": [
    {
     "data": {
      "text/plain": [
       "Text(0.5, 1.0, 'ROC Curve')"
      ]
     },
     "execution_count": 13,
     "metadata": {},
     "output_type": "execute_result"
    },
    {
     "data": {
      "image/png": "[encoded data removed]",
      "text/plain": [
       "<Figure size 432x288 with 1 Axes>"
      ]
     },
     "metadata": {
      "needs_background": "light"
     },
     "output_type": "display_data"
    }
   ],
   "source": [
    "for i in range(len(actual)):\n",
    "    if actual[i] == 1:\n",
    "        FPR.append(FPR[i])\n",
    "        TPR.append(TPR[i]+(1/p))\n",
    "    else:\n",
    "        FPR.append(FPR[i]+(1/n))\n",
    "        TPR.append(TPR[i])\n",
    "plt.plot(FPR, TPR, marker = 'o')\n",
    "plt.xlabel('FPR')\n",
    "plt.ylabel('TPR')\n",
    "plt.title('ROC Curve')"
   ]
  },
  {
   "cell_type": "markdown",
   "metadata": {},
   "source": [
    "2-e"
   ]
  },
  {
   "cell_type": "code",
   "execution_count": 77,
   "metadata": {},
   "outputs": [
    {
     "data": {
      "text/plain": [
       "(3, 3, 7, 0.2, 0.2, 0.2)"
      ]
     },
     "execution_count": 77,
     "metadata": {},
     "output_type": "execute_result"
    }
   ],
   "source": [
    "# FPC1, FNC1, FPC2, FNC2, FPC3, FNC3 = 1, 1, 2, 1, 1, 2\n",
    "pred = [0, 0, 0, 0, 0, 0, 0, 0, 0, 0]\n",
    "i1, i2, i3 = 0, 0, 0\n",
    "cm = confusion_matrix(actual, pred)\n",
    "# misses = cm[0][1] + cm[1][0]\n",
    "# misses is actually the total number of cases\n",
    "misses = 10\n",
    "c1 = (cm[0][1] + cm[1][0])/misses\n",
    "c2 = (2*cm[0][1] + cm[1][0])/misses\n",
    "c3 = (cm[0][1] + 2*cm[1][0])/misses\n",
    "# c1, c2, c3 = 0, 0, 0\n",
    "for i in range(len(actual)):\n",
    "    pred[i]=1\n",
    "    cm = confusion_matrix(actual, pred)\n",
    "    # misses = cm[0][1] + cm[1][0]\n",
    "    c1t = (cm[0][1] + cm[1][0])/misses\n",
    "    c2t = (2*cm[0][1] + cm[1][0])/misses\n",
    "    c3t = (cm[0][1] + 2*cm[1][0])/misses\n",
    "    if c1t < c1: \n",
    "        c1 = c1t\n",
    "        i1 = i+1\n",
    "    if c2t < c2: \n",
    "        c2 = c2t\n",
    "        i2 = i+1\n",
    "    if c3t < c3: \n",
    "        c3 = c3t\n",
    "        i3 = i+1\n",
    "i1, i2, i3, c1, c2, c3"
   ]
  },
  {
   "cell_type": "markdown",
   "metadata": {},
   "source": [
    "4"
   ]
  },
  {
   "cell_type": "markdown",
   "metadata": {},
   "source": [
    "Reading the data and encoding the B and M label values as 0 and 1"
   ]
  },
  {
   "cell_type": "code",
   "execution_count": 17,
   "metadata": {},
   "outputs": [],
   "source": [
    "X = pd.read_csv('../data/wdbc.data', header=None, usecols=range(1,32))\n",
    "Y = X[1]\n",
    "X.drop([1], axis = 1, inplace=True)\n",
    "le = LabelEncoder()\n",
    "Y=le.fit_transform(Y)\n",
    "x_train, x_test, y_train, y_test = train_test_split(X, Y, test_size=0.20, random_state = 29, stratify = Y)"
   ]
  },
  {
   "cell_type": "markdown",
   "metadata": {},
   "source": [
    "Setting up the classifiers and gridSearch for inner loops"
   ]
  },
  {
   "cell_type": "code",
   "execution_count": 35,
   "metadata": {},
   "outputs": [],
   "source": [
    "complexity_values = range(1,10)\n",
    "\n",
    "clf1 = DecisionTreeClassifier()\n",
    "p_grid1 = [{'max_depth': complexity_values, 'criterion': ['gini', 'entropy']}]\n",
    "\n",
    "clf2 = KNeighborsClassifier()\n",
    "pipe2 = Pipeline([('std', StandardScaler()), ('clf2', clf2)])\n",
    "p_grid2 = [{'clf2__n_neighbors': complexity_values}]\n",
    "\n",
    "# For small datasets, ‘liblinear’ is a good choice for solver\n",
    "clf3 = LogisticRegression(solver='liblinear')\n",
    "pipe3 = Pipeline([('std', StandardScaler()), ('clf3', clf3)])\n",
    "p_grid3 = [{'clf3__C': np.power(10, range(0,10))}]\n",
    "\n",
    "clf4 = SVC()\n",
    "pipe4 = Pipeline([('std', StandardScaler()), ('clf4', clf4)])\n",
    "p_grid4 = [{'clf4__kernel': ['rbf'], 'clf4__C': np.power(10, range(0,5)), 'clf4__gamma': np.power(10., range(-5,0))},\n",
    "        {'clf4__kernel': ['linear'], 'clf4__C': np.power(10, range(0,5))}]\n",
    "\n",
    "\n",
    "inner_cv = StratifiedKFold(n_splits=4, shuffle=True)\n",
    "outer_cv = StratifiedKFold(n_splits=4, shuffle=True)\n",
    "grid_cv = []\n",
    "\n",
    "# Recall is chosen for scoring because falsely classifying true malignant case as benign is dangerous/costly\n",
    "for p_grid, est in zip((p_grid1, p_grid2, p_grid3, p_grid4), (clf1, pipe2, pipe3, pipe4)):\n",
    "    gs = GridSearchCV(estimator=est, param_grid=p_grid, scoring='recall', cv=inner_cv)\n",
    "    grid_cv.append(gs)\n"
   ]
  },
  {
   "cell_type": "markdown",
   "metadata": {},
   "source": [
    "Running the nested-cv and getting the mean and standard deviation of the scores for each of the 4 models"
   ]
  },
  {
   "cell_type": "code",
   "execution_count": 40,
   "metadata": {},
   "outputs": [
    {
     "data": {
      "text/plain": [
       "[(0.9170819490586932, 0.049454652439858755),\n",
       " (0.9173588039867109, 0.05411274580352311),\n",
       " (0.946705426356589, 0.035264787012444565),\n",
       " (0.9350775193798448, 0.038619773962432886)]"
      ]
     },
     "execution_count": 40,
     "metadata": {},
     "output_type": "execute_result"
    }
   ],
   "source": [
    "nested_scores = []\n",
    "for gs in grid_cv:\n",
    "    nested_score = cross_val_score(gs, X=x_train, y=y_train, cv=outer_cv, scoring='recall')\n",
    "    nested_scores.append((nested_score.mean(), nested_score.std()))\n",
    "\n",
    "nested_scores"
   ]
  },
  {
   "cell_type": "markdown",
   "metadata": {},
   "source": [
    "From the nested-cv, the best model seems to be the 3rd one - Logistic Regression<br>\n",
    "Find the best hyper-parameters for the logistic model and retrain on the whole train set"
   ]
  },
  {
   "cell_type": "code",
   "execution_count": 49,
   "metadata": {},
   "outputs": [
    {
     "data": {
      "text/plain": [
       "GridSearchCV(cv=StratifiedKFold(n_splits=4, random_state=9, shuffle=True),\n",
       "             estimator=Pipeline(steps=[('std', StandardScaler()),\n",
       "                                       ('clf3',\n",
       "                                        LogisticRegression(solver='liblinear'))]),\n",
       "             param_grid=[{'clf3__C': array([         1,         10,        100,       1000,      10000,\n",
       "           100000,    1000000,   10000000,  100000000, 1000000000],\n",
       "      dtype=int32)}],\n",
       "             scoring='recall')"
      ]
     },
     "execution_count": 49,
     "metadata": {},
     "output_type": "execute_result"
    }
   ],
   "source": [
    "hp_model = GridSearchCV(estimator=pipe3, param_grid=p_grid3, scoring='recall', cv=inner_cv)\n",
    "hp_model.fit(x_train, y_train)"
   ]
  },
  {
   "cell_type": "code",
   "execution_count": 66,
   "metadata": {},
   "outputs": [
    {
     "name": "stdout",
     "output_type": "stream",
     "text": [
      "[[72  0]\n",
      " [ 0 42]]\n",
      "1.0\n",
      "1.0\n"
     ]
    }
   ],
   "source": [
    "best_model = hp_model.best_estimator_\n",
    "pred = best_model.predict(pd.DataFrame(x_test))\n",
    "print(confusion_matrix(y_test, pred))\n",
    "print(recall_score(y_test, pred))\n",
    "print(accuracy_score(y_test, pred))\n",
    "prob = best_model.predict_proba(pd.DataFrame(x_test))"
   ]
  },
  {
   "cell_type": "code",
   "execution_count": 65,
   "metadata": {},
   "outputs": [
    {
     "data": {
      "text/plain": [
       "<AxesSubplot:title={'center':'ROC Curves'}, xlabel='False Positive Rate', ylabel='True Positive Rate'>"
      ]
     },
     "execution_count": 65,
     "metadata": {},
     "output_type": "execute_result"
    },
    {
     "data": {
      "image/png": "[encoded data removed]",
      "text/plain": [
       "<Figure size 432x288 with 1 Axes>"
      ]
     },
     "metadata": {
      "needs_background": "light"
     },
     "output_type": "display_data"
    }
   ],
   "source": [
    "plot_roc(y_test, prob)"
   ]
  },
  {
   "cell_type": "markdown",
   "metadata": {},
   "source": [
    "The model is not making any errors on the test data and <br>\n",
    "hence the ROC curve is perfect with an AUC of 1 "
   ]
  },
  {
   "cell_type": "code",
   "execution_count": 67,
   "metadata": {},
   "outputs": [
    {
     "data": {
      "text/plain": [
       "<AxesSubplot:title={'center':'Lift Curve'}, xlabel='Percentage of sample', ylabel='Lift'>"
      ]
     },
     "execution_count": 67,
     "metadata": {},
     "output_type": "execute_result"
    },
    {
     "data": {
      "image/png": "[encoded data removed]",
      "text/plain": [
       "<Figure size 432x288 with 1 Axes>"
      ]
     },
     "metadata": {
      "needs_background": "light"
     },
     "output_type": "display_data"
    }
   ],
   "source": [
    "plot_lift_curve(y_test, prob)"
   ]
  },
  {
   "cell_type": "code",
   "execution_count": 86,
   "metadata": {},
   "outputs": [
    {
     "data": {
      "text/html": [
       "<div>\n",
       "<style scoped>\n",
       "    .dataframe tbody tr th:only-of-type {\n",
       "        vertical-align: middle;\n",
       "    }\n",
       "\n",
       "    .dataframe tbody tr th {\n",
       "        vertical-align: top;\n",
       "    }\n",
       "\n",
       "    .dataframe thead th {\n",
       "        text-align: right;\n",
       "    }\n",
       "</style>\n",
       "<table border=\"1\" class=\"dataframe\">\n",
       "  <thead>\n",
       "    <tr style=\"text-align: right;\">\n",
       "      <th></th>\n",
       "      <th>0</th>\n",
       "      <th>1</th>\n",
       "    </tr>\n",
       "  </thead>\n",
       "  <tbody>\n",
       "    <tr>\n",
       "      <th>88</th>\n",
       "      <td>4.921627e-01</td>\n",
       "      <td>0.507837</td>\n",
       "    </tr>\n",
       "    <tr>\n",
       "      <th>78</th>\n",
       "      <td>2.472086e-01</td>\n",
       "      <td>0.752791</td>\n",
       "    </tr>\n",
       "    <tr>\n",
       "      <th>96</th>\n",
       "      <td>1.739312e-01</td>\n",
       "      <td>0.826069</td>\n",
       "    </tr>\n",
       "    <tr>\n",
       "      <th>49</th>\n",
       "      <td>1.062852e-01</td>\n",
       "      <td>0.893715</td>\n",
       "    </tr>\n",
       "    <tr>\n",
       "      <th>76</th>\n",
       "      <td>1.018133e-01</td>\n",
       "      <td>0.898187</td>\n",
       "    </tr>\n",
       "    <tr>\n",
       "      <th>...</th>\n",
       "      <td>...</td>\n",
       "      <td>...</td>\n",
       "    </tr>\n",
       "    <tr>\n",
       "      <th>86</th>\n",
       "      <td>8.440875e-10</td>\n",
       "      <td>1.000000</td>\n",
       "    </tr>\n",
       "    <tr>\n",
       "      <th>106</th>\n",
       "      <td>3.257328e-11</td>\n",
       "      <td>1.000000</td>\n",
       "    </tr>\n",
       "    <tr>\n",
       "      <th>89</th>\n",
       "      <td>3.091083e-12</td>\n",
       "      <td>1.000000</td>\n",
       "    </tr>\n",
       "    <tr>\n",
       "      <th>1</th>\n",
       "      <td>1.055378e-12</td>\n",
       "      <td>1.000000</td>\n",
       "    </tr>\n",
       "    <tr>\n",
       "      <th>4</th>\n",
       "      <td>0.000000e+00</td>\n",
       "      <td>1.000000</td>\n",
       "    </tr>\n",
       "  </tbody>\n",
       "</table>\n",
       "<p>114 rows × 2 columns</p>\n",
       "</div>"
      ],
      "text/plain": [
       "                0         1\n",
       "88   4.921627e-01  0.507837\n",
       "78   2.472086e-01  0.752791\n",
       "96   1.739312e-01  0.826069\n",
       "49   1.062852e-01  0.893715\n",
       "76   1.018133e-01  0.898187\n",
       "..            ...       ...\n",
       "86   8.440875e-10  1.000000\n",
       "106  3.257328e-11  1.000000\n",
       "89   3.091083e-12  1.000000\n",
       "1    1.055378e-12  1.000000\n",
       "4    0.000000e+00  1.000000\n",
       "\n",
       "[114 rows x 2 columns]"
      ]
     },
     "execution_count": 86,
     "metadata": {},
     "output_type": "execute_result"
    }
   ],
   "source": [
    "pd.DataFrame(prob).sort_values(by=1)"
   ]
  },
  {
   "cell_type": "markdown",
   "metadata": {},
   "source": [
    "The lift curve for class 1 is horizontal until almost 0.4 percentage of sample <br>\n",
    "This is happening because the model is predicting a probability of 1 for those samples <br>\n",
    "Also, the curve for class 1 is higher than 0. This is what we want because <br> \n",
    "we want to be able to classify 1 class (malignant) better"
   ]
  }
 ],
 "metadata": {
  "interpreter": {
   "hash": "98dd8f7ab5e670de6f15440e4dbf104f6a22fa9efc0b623d651b0cd672a901b5"
  },
  "kernelspec": {
   "display_name": "Python 3.9.7 ('env': venv)",
   "language": "python",
   "name": "python3"
  },
  "language_info": {
   "codemirror_mode": {
    "name": "ipython",
    "version": 3
   },
   "file_extension": ".py",
   "mimetype": "text/x-python",
   "name": "python",
   "nbconvert_exporter": "python",
   "pygments_lexer": "ipython3",
   "version": "3.9.7"
  },
  "orig_nbformat": 4
 },
 "nbformat": 4,
 "nbformat_minor": 2
}
